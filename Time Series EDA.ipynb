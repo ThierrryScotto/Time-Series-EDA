{
 "cells": [
  {
   "cell_type": "code",
   "execution_count": 9,
   "metadata": {},
   "outputs": [],
   "source": [
    "import pandas_datareader as pdr\n",
    "import pandas as pd\n",
    "from datetime import datetime"
   ]
  },
  {
   "cell_type": "code",
   "execution_count": 10,
   "metadata": {},
   "outputs": [
    {
     "data": {
      "text/html": [
       "<div>\n",
       "<style scoped>\n",
       "    .dataframe tbody tr th:only-of-type {\n",
       "        vertical-align: middle;\n",
       "    }\n",
       "\n",
       "    .dataframe tbody tr th {\n",
       "        vertical-align: top;\n",
       "    }\n",
       "\n",
       "    .dataframe thead th {\n",
       "        text-align: right;\n",
       "    }\n",
       "</style>\n",
       "<table border=\"1\" class=\"dataframe\">\n",
       "  <thead>\n",
       "    <tr style=\"text-align: right;\">\n",
       "      <th></th>\n",
       "      <th>High</th>\n",
       "      <th>Low</th>\n",
       "      <th>Open</th>\n",
       "      <th>Close</th>\n",
       "      <th>Volume</th>\n",
       "      <th>Adj Close</th>\n",
       "    </tr>\n",
       "    <tr>\n",
       "      <th>Date</th>\n",
       "      <th></th>\n",
       "      <th></th>\n",
       "      <th></th>\n",
       "      <th></th>\n",
       "      <th></th>\n",
       "      <th></th>\n",
       "    </tr>\n",
       "  </thead>\n",
       "  <tbody>\n",
       "    <tr>\n",
       "      <th>2017-11-28</th>\n",
       "      <td>21.333332</td>\n",
       "      <td>20.927999</td>\n",
       "      <td>21.090668</td>\n",
       "      <td>21.170000</td>\n",
       "      <td>74242500.0</td>\n",
       "      <td>21.170000</td>\n",
       "    </tr>\n",
       "    <tr>\n",
       "      <th>2017-11-29</th>\n",
       "      <td>21.200001</td>\n",
       "      <td>20.082001</td>\n",
       "      <td>21.153334</td>\n",
       "      <td>20.502666</td>\n",
       "      <td>131511000.0</td>\n",
       "      <td>20.502666</td>\n",
       "    </tr>\n",
       "    <tr>\n",
       "      <th>2017-11-30</th>\n",
       "      <td>20.713333</td>\n",
       "      <td>20.302668</td>\n",
       "      <td>20.570667</td>\n",
       "      <td>20.590000</td>\n",
       "      <td>65274000.0</td>\n",
       "      <td>20.590000</td>\n",
       "    </tr>\n",
       "    <tr>\n",
       "      <th>2017-12-01</th>\n",
       "      <td>20.688000</td>\n",
       "      <td>20.336666</td>\n",
       "      <td>20.362667</td>\n",
       "      <td>20.435333</td>\n",
       "      <td>64393500.0</td>\n",
       "      <td>20.435333</td>\n",
       "    </tr>\n",
       "    <tr>\n",
       "      <th>2017-12-04</th>\n",
       "      <td>20.551332</td>\n",
       "      <td>20.040667</td>\n",
       "      <td>20.433332</td>\n",
       "      <td>20.346666</td>\n",
       "      <td>87526500.0</td>\n",
       "      <td>20.346666</td>\n",
       "    </tr>\n",
       "    <tr>\n",
       "      <th>...</th>\n",
       "      <td>...</td>\n",
       "      <td>...</td>\n",
       "      <td>...</td>\n",
       "      <td>...</td>\n",
       "      <td>...</td>\n",
       "      <td>...</td>\n",
       "    </tr>\n",
       "    <tr>\n",
       "      <th>2022-11-18</th>\n",
       "      <td>185.190002</td>\n",
       "      <td>176.550003</td>\n",
       "      <td>185.050003</td>\n",
       "      <td>180.190002</td>\n",
       "      <td>75904900.0</td>\n",
       "      <td>180.190002</td>\n",
       "    </tr>\n",
       "    <tr>\n",
       "      <th>2022-11-21</th>\n",
       "      <td>176.770004</td>\n",
       "      <td>167.539993</td>\n",
       "      <td>175.850006</td>\n",
       "      <td>167.869995</td>\n",
       "      <td>92882700.0</td>\n",
       "      <td>167.869995</td>\n",
       "    </tr>\n",
       "    <tr>\n",
       "      <th>2022-11-22</th>\n",
       "      <td>170.919998</td>\n",
       "      <td>166.190002</td>\n",
       "      <td>168.630005</td>\n",
       "      <td>169.910004</td>\n",
       "      <td>78452300.0</td>\n",
       "      <td>169.910004</td>\n",
       "    </tr>\n",
       "    <tr>\n",
       "      <th>2022-11-23</th>\n",
       "      <td>183.619995</td>\n",
       "      <td>172.500000</td>\n",
       "      <td>173.570007</td>\n",
       "      <td>183.199997</td>\n",
       "      <td>109536700.0</td>\n",
       "      <td>183.199997</td>\n",
       "    </tr>\n",
       "    <tr>\n",
       "      <th>2022-11-25</th>\n",
       "      <td>185.199997</td>\n",
       "      <td>180.630005</td>\n",
       "      <td>185.059998</td>\n",
       "      <td>182.860001</td>\n",
       "      <td>50672700.0</td>\n",
       "      <td>182.860001</td>\n",
       "    </tr>\n",
       "  </tbody>\n",
       "</table>\n",
       "<p>1258 rows × 6 columns</p>\n",
       "</div>"
      ],
      "text/plain": [
       "                  High         Low        Open       Close       Volume  \\\n",
       "Date                                                                      \n",
       "2017-11-28   21.333332   20.927999   21.090668   21.170000   74242500.0   \n",
       "2017-11-29   21.200001   20.082001   21.153334   20.502666  131511000.0   \n",
       "2017-11-30   20.713333   20.302668   20.570667   20.590000   65274000.0   \n",
       "2017-12-01   20.688000   20.336666   20.362667   20.435333   64393500.0   \n",
       "2017-12-04   20.551332   20.040667   20.433332   20.346666   87526500.0   \n",
       "...                ...         ...         ...         ...          ...   \n",
       "2022-11-18  185.190002  176.550003  185.050003  180.190002   75904900.0   \n",
       "2022-11-21  176.770004  167.539993  175.850006  167.869995   92882700.0   \n",
       "2022-11-22  170.919998  166.190002  168.630005  169.910004   78452300.0   \n",
       "2022-11-23  183.619995  172.500000  173.570007  183.199997  109536700.0   \n",
       "2022-11-25  185.199997  180.630005  185.059998  182.860001   50672700.0   \n",
       "\n",
       "             Adj Close  \n",
       "Date                    \n",
       "2017-11-28   21.170000  \n",
       "2017-11-29   20.502666  \n",
       "2017-11-30   20.590000  \n",
       "2017-12-01   20.435333  \n",
       "2017-12-04   20.346666  \n",
       "...                ...  \n",
       "2022-11-18  180.190002  \n",
       "2022-11-21  167.869995  \n",
       "2022-11-22  169.910004  \n",
       "2022-11-23  183.199997  \n",
       "2022-11-25  182.860001  \n",
       "\n",
       "[1258 rows x 6 columns]"
      ]
     },
     "execution_count": 10,
     "metadata": {},
     "output_type": "execute_result"
    }
   ],
   "source": [
    "df_tesla = pdr.get_data_yahoo('TSLA')\n",
    "df_tesla"
   ]
  },
  {
   "cell_type": "code",
   "execution_count": 11,
   "metadata": {},
   "outputs": [],
   "source": [
    "PLOTSIZE = (12, 4)"
   ]
  },
  {
   "cell_type": "code",
   "execution_count": 12,
   "metadata": {},
   "outputs": [
    {
     "data": {
      "text/plain": [
       "<AxesSubplot:xlabel='Date'>"
      ]
     },
     "execution_count": 12,
     "metadata": {},
     "output_type": "execute_result"
    },
    {
     "data": {
      "image/png": "[encoded data removed]",
      "text/plain": [
       "<Figure size 864x288 with 1 Axes>"
      ]
     },
     "metadata": {
      "needs_background": "light"
     },
     "output_type": "display_data"
    }
   ],
   "source": [
    "df_tesla['High'].plot(figsize=PLOTSIZE)"
   ]
  },
  {
   "cell_type": "code",
   "execution_count": 13,
   "metadata": {},
   "outputs": [
    {
     "data": {
      "text/plain": [
       "<AxesSubplot:xlabel='Date'>"
      ]
     },
     "execution_count": 13,
     "metadata": {},
     "output_type": "execute_result"
    },
    {
     "data": {
      "image/png": "[encoded data removed]",
      "text/plain": [
       "<Figure size 864x288 with 1 Axes>"
      ]
     },
     "metadata": {
      "needs_background": "light"
     },
     "output_type": "display_data"
    }
   ],
   "source": [
    "## xlimit and y limit\n",
    "df_tesla['High'].plot(xlim=['2020-01-01','2021-09-01'],figsize=PLOTSIZE)"
   ]
  },
  {
   "cell_type": "code",
   "execution_count": 18,
   "metadata": {},
   "outputs": [
    {
     "data": {
      "text/plain": [
       "<AxesSubplot:xlabel='Date'>"
      ]
     },
     "execution_count": 18,
     "metadata": {},
     "output_type": "execute_result"
    },
    {
     "data": {
      "image/png": "[encoded data removed]",
      "text/plain": [
       "<Figure size 864x288 with 1 Axes>"
      ]
     },
     "metadata": {
      "needs_background": "light"
     },
     "output_type": "display_data"
    }
   ],
   "source": [
    "df_tesla.plot(xlim=['2020-01-01', '2021-09-01'], ylim=[0, 900], figsize=PLOTSIZE, ls='--', c='green')"
   ]
  },
  {
   "cell_type": "code",
   "execution_count": 19,
   "metadata": {},
   "outputs": [
    {
     "data": {
      "text/plain": [
       "DatetimeIndex(['2017-11-28', '2017-11-29', '2017-11-30', '2017-12-01',\n",
       "               '2017-12-04', '2017-12-05', '2017-12-06', '2017-12-07',\n",
       "               '2017-12-08', '2017-12-11',\n",
       "               ...\n",
       "               '2022-11-11', '2022-11-14', '2022-11-15', '2022-11-16',\n",
       "               '2022-11-17', '2022-11-18', '2022-11-21', '2022-11-22',\n",
       "               '2022-11-23', '2022-11-25'],\n",
       "              dtype='datetime64[ns]', name='Date', length=1258, freq=None)"
      ]
     },
     "execution_count": 19,
     "metadata": {},
     "output_type": "execute_result"
    }
   ],
   "source": [
    "df_tesla.index"
   ]
  },
  {
   "cell_type": "code",
   "execution_count": 24,
   "metadata": {},
   "outputs": [],
   "source": [
    "index = df_tesla.loc['2020-01-01':'2021-09-01'].index.copy()\n",
    "share_open = df_tesla.loc['2020-01-01':'2021-09-01']['Open'].copy()"
   ]
  },
  {
   "cell_type": "code",
   "execution_count": 26,
   "metadata": {},
   "outputs": [],
   "source": [
    "import matplotlib.pyplot as plt\n",
    "%matplotlib inline"
   ]
  },
  {
   "cell_type": "code",
   "execution_count": 30,
   "metadata": {},
   "outputs": [
    {
     "data": {
      "text/plain": [
       "[<matplotlib.lines.Line2D at 0x1f86bdea280>]"
      ]
     },
     "execution_count": 30,
     "metadata": {},
     "output_type": "execute_result"
    },
    {
     "data": {
      "image/png": "[encoded data removed]",
      "text/plain": [
       "<Figure size 864x288 with 1 Axes>"
      ]
     },
     "metadata": {
      "needs_background": "light"
     },
     "output_type": "display_data"
    }
   ],
   "source": [
    "fig, ax = plt.subplots(figsize=PLOTSIZE)\n",
    "\n",
    "plt.tight_layout()\n",
    "fig.autofmt_xdate()\n",
    "ax.plot(index, share_open)"
   ]
  },
  {
   "cell_type": "code",
   "execution_count": 31,
   "metadata": {},
   "outputs": [],
   "source": [
    "## Datetime Index"
   ]
  },
  {
   "cell_type": "code",
   "execution_count": 32,
   "metadata": {},
   "outputs": [
    {
     "data": {
      "text/html": [
       "<div>\n",
       "<style scoped>\n",
       "    .dataframe tbody tr th:only-of-type {\n",
       "        vertical-align: middle;\n",
       "    }\n",
       "\n",
       "    .dataframe tbody tr th {\n",
       "        vertical-align: top;\n",
       "    }\n",
       "\n",
       "    .dataframe thead th {\n",
       "        text-align: right;\n",
       "    }\n",
       "</style>\n",
       "<table border=\"1\" class=\"dataframe\">\n",
       "  <thead>\n",
       "    <tr style=\"text-align: right;\">\n",
       "      <th></th>\n",
       "      <th>Date</th>\n",
       "      <th>High</th>\n",
       "      <th>Low</th>\n",
       "      <th>Open</th>\n",
       "      <th>Close</th>\n",
       "      <th>Volume</th>\n",
       "      <th>Adj Close</th>\n",
       "    </tr>\n",
       "  </thead>\n",
       "  <tbody>\n",
       "    <tr>\n",
       "      <th>0</th>\n",
       "      <td>2017-11-28</td>\n",
       "      <td>21.333332</td>\n",
       "      <td>20.927999</td>\n",
       "      <td>21.090668</td>\n",
       "      <td>21.170000</td>\n",
       "      <td>74242500.0</td>\n",
       "      <td>21.170000</td>\n",
       "    </tr>\n",
       "    <tr>\n",
       "      <th>1</th>\n",
       "      <td>2017-11-29</td>\n",
       "      <td>21.200001</td>\n",
       "      <td>20.082001</td>\n",
       "      <td>21.153334</td>\n",
       "      <td>20.502666</td>\n",
       "      <td>131511000.0</td>\n",
       "      <td>20.502666</td>\n",
       "    </tr>\n",
       "    <tr>\n",
       "      <th>2</th>\n",
       "      <td>2017-11-30</td>\n",
       "      <td>20.713333</td>\n",
       "      <td>20.302668</td>\n",
       "      <td>20.570667</td>\n",
       "      <td>20.590000</td>\n",
       "      <td>65274000.0</td>\n",
       "      <td>20.590000</td>\n",
       "    </tr>\n",
       "    <tr>\n",
       "      <th>3</th>\n",
       "      <td>2017-12-01</td>\n",
       "      <td>20.688000</td>\n",
       "      <td>20.336666</td>\n",
       "      <td>20.362667</td>\n",
       "      <td>20.435333</td>\n",
       "      <td>64393500.0</td>\n",
       "      <td>20.435333</td>\n",
       "    </tr>\n",
       "    <tr>\n",
       "      <th>4</th>\n",
       "      <td>2017-12-04</td>\n",
       "      <td>20.551332</td>\n",
       "      <td>20.040667</td>\n",
       "      <td>20.433332</td>\n",
       "      <td>20.346666</td>\n",
       "      <td>87526500.0</td>\n",
       "      <td>20.346666</td>\n",
       "    </tr>\n",
       "    <tr>\n",
       "      <th>...</th>\n",
       "      <td>...</td>\n",
       "      <td>...</td>\n",
       "      <td>...</td>\n",
       "      <td>...</td>\n",
       "      <td>...</td>\n",
       "      <td>...</td>\n",
       "      <td>...</td>\n",
       "    </tr>\n",
       "    <tr>\n",
       "      <th>1253</th>\n",
       "      <td>2022-11-18</td>\n",
       "      <td>185.190002</td>\n",
       "      <td>176.550003</td>\n",
       "      <td>185.050003</td>\n",
       "      <td>180.190002</td>\n",
       "      <td>75904900.0</td>\n",
       "      <td>180.190002</td>\n",
       "    </tr>\n",
       "    <tr>\n",
       "      <th>1254</th>\n",
       "      <td>2022-11-21</td>\n",
       "      <td>176.770004</td>\n",
       "      <td>167.539993</td>\n",
       "      <td>175.850006</td>\n",
       "      <td>167.869995</td>\n",
       "      <td>92882700.0</td>\n",
       "      <td>167.869995</td>\n",
       "    </tr>\n",
       "    <tr>\n",
       "      <th>1255</th>\n",
       "      <td>2022-11-22</td>\n",
       "      <td>170.919998</td>\n",
       "      <td>166.190002</td>\n",
       "      <td>168.630005</td>\n",
       "      <td>169.910004</td>\n",
       "      <td>78452300.0</td>\n",
       "      <td>169.910004</td>\n",
       "    </tr>\n",
       "    <tr>\n",
       "      <th>1256</th>\n",
       "      <td>2022-11-23</td>\n",
       "      <td>183.619995</td>\n",
       "      <td>172.500000</td>\n",
       "      <td>173.570007</td>\n",
       "      <td>183.199997</td>\n",
       "      <td>109536700.0</td>\n",
       "      <td>183.199997</td>\n",
       "    </tr>\n",
       "    <tr>\n",
       "      <th>1257</th>\n",
       "      <td>2022-11-25</td>\n",
       "      <td>185.199997</td>\n",
       "      <td>180.630005</td>\n",
       "      <td>185.059998</td>\n",
       "      <td>182.860001</td>\n",
       "      <td>50672700.0</td>\n",
       "      <td>182.860001</td>\n",
       "    </tr>\n",
       "  </tbody>\n",
       "</table>\n",
       "<p>1258 rows × 7 columns</p>\n",
       "</div>"
      ],
      "text/plain": [
       "           Date        High         Low        Open       Close       Volume  \\\n",
       "0    2017-11-28   21.333332   20.927999   21.090668   21.170000   74242500.0   \n",
       "1    2017-11-29   21.200001   20.082001   21.153334   20.502666  131511000.0   \n",
       "2    2017-11-30   20.713333   20.302668   20.570667   20.590000   65274000.0   \n",
       "3    2017-12-01   20.688000   20.336666   20.362667   20.435333   64393500.0   \n",
       "4    2017-12-04   20.551332   20.040667   20.433332   20.346666   87526500.0   \n",
       "...         ...         ...         ...         ...         ...          ...   \n",
       "1253 2022-11-18  185.190002  176.550003  185.050003  180.190002   75904900.0   \n",
       "1254 2022-11-21  176.770004  167.539993  175.850006  167.869995   92882700.0   \n",
       "1255 2022-11-22  170.919998  166.190002  168.630005  169.910004   78452300.0   \n",
       "1256 2022-11-23  183.619995  172.500000  173.570007  183.199997  109536700.0   \n",
       "1257 2022-11-25  185.199997  180.630005  185.059998  182.860001   50672700.0   \n",
       "\n",
       "       Adj Close  \n",
       "0      21.170000  \n",
       "1      20.502666  \n",
       "2      20.590000  \n",
       "3      20.435333  \n",
       "4      20.346666  \n",
       "...          ...  \n",
       "1253  180.190002  \n",
       "1254  167.869995  \n",
       "1255  169.910004  \n",
       "1256  183.199997  \n",
       "1257  182.860001  \n",
       "\n",
       "[1258 rows x 7 columns]"
      ]
     },
     "execution_count": 32,
     "metadata": {},
     "output_type": "execute_result"
    }
   ],
   "source": [
    "df_tesla = df_tesla.reset_index()\n",
    "df_tesla"
   ]
  },
  {
   "cell_type": "code",
   "execution_count": 33,
   "metadata": {},
   "outputs": [
    {
     "name": "stdout",
     "output_type": "stream",
     "text": [
      "<class 'pandas.core.frame.DataFrame'>\n",
      "RangeIndex: 1258 entries, 0 to 1257\n",
      "Data columns (total 7 columns):\n",
      " #   Column     Non-Null Count  Dtype         \n",
      "---  ------     --------------  -----         \n",
      " 0   Date       1258 non-null   datetime64[ns]\n",
      " 1   High       1258 non-null   float64       \n",
      " 2   Low        1258 non-null   float64       \n",
      " 3   Open       1258 non-null   float64       \n",
      " 4   Close      1258 non-null   float64       \n",
      " 5   Volume     1258 non-null   float64       \n",
      " 6   Adj Close  1258 non-null   float64       \n",
      "dtypes: datetime64[ns](1), float64(6)\n",
      "memory usage: 68.9 KB\n"
     ]
    }
   ],
   "source": [
    "df_tesla.info()"
   ]
  },
  {
   "cell_type": "code",
   "execution_count": 36,
   "metadata": {},
   "outputs": [
    {
     "data": {
      "text/html": [
       "<div>\n",
       "<style scoped>\n",
       "    .dataframe tbody tr th:only-of-type {\n",
       "        vertical-align: middle;\n",
       "    }\n",
       "\n",
       "    .dataframe tbody tr th {\n",
       "        vertical-align: top;\n",
       "    }\n",
       "\n",
       "    .dataframe thead th {\n",
       "        text-align: right;\n",
       "    }\n",
       "</style>\n",
       "<table border=\"1\" class=\"dataframe\">\n",
       "  <thead>\n",
       "    <tr style=\"text-align: right;\">\n",
       "      <th></th>\n",
       "      <th>High</th>\n",
       "      <th>Low</th>\n",
       "      <th>Open</th>\n",
       "      <th>Close</th>\n",
       "      <th>Volume</th>\n",
       "      <th>Adj Close</th>\n",
       "    </tr>\n",
       "    <tr>\n",
       "      <th>Date</th>\n",
       "      <th></th>\n",
       "      <th></th>\n",
       "      <th></th>\n",
       "      <th></th>\n",
       "      <th></th>\n",
       "      <th></th>\n",
       "    </tr>\n",
       "  </thead>\n",
       "  <tbody>\n",
       "    <tr>\n",
       "      <th>2017-11-28</th>\n",
       "      <td>21.333332</td>\n",
       "      <td>20.927999</td>\n",
       "      <td>21.090668</td>\n",
       "      <td>21.170000</td>\n",
       "      <td>74242500.0</td>\n",
       "      <td>21.170000</td>\n",
       "    </tr>\n",
       "    <tr>\n",
       "      <th>2017-11-29</th>\n",
       "      <td>21.200001</td>\n",
       "      <td>20.082001</td>\n",
       "      <td>21.153334</td>\n",
       "      <td>20.502666</td>\n",
       "      <td>131511000.0</td>\n",
       "      <td>20.502666</td>\n",
       "    </tr>\n",
       "    <tr>\n",
       "      <th>2017-11-30</th>\n",
       "      <td>20.713333</td>\n",
       "      <td>20.302668</td>\n",
       "      <td>20.570667</td>\n",
       "      <td>20.590000</td>\n",
       "      <td>65274000.0</td>\n",
       "      <td>20.590000</td>\n",
       "    </tr>\n",
       "    <tr>\n",
       "      <th>2017-12-01</th>\n",
       "      <td>20.688000</td>\n",
       "      <td>20.336666</td>\n",
       "      <td>20.362667</td>\n",
       "      <td>20.435333</td>\n",
       "      <td>64393500.0</td>\n",
       "      <td>20.435333</td>\n",
       "    </tr>\n",
       "    <tr>\n",
       "      <th>2017-12-04</th>\n",
       "      <td>20.551332</td>\n",
       "      <td>20.040667</td>\n",
       "      <td>20.433332</td>\n",
       "      <td>20.346666</td>\n",
       "      <td>87526500.0</td>\n",
       "      <td>20.346666</td>\n",
       "    </tr>\n",
       "    <tr>\n",
       "      <th>...</th>\n",
       "      <td>...</td>\n",
       "      <td>...</td>\n",
       "      <td>...</td>\n",
       "      <td>...</td>\n",
       "      <td>...</td>\n",
       "      <td>...</td>\n",
       "    </tr>\n",
       "    <tr>\n",
       "      <th>2022-11-18</th>\n",
       "      <td>185.190002</td>\n",
       "      <td>176.550003</td>\n",
       "      <td>185.050003</td>\n",
       "      <td>180.190002</td>\n",
       "      <td>75904900.0</td>\n",
       "      <td>180.190002</td>\n",
       "    </tr>\n",
       "    <tr>\n",
       "      <th>2022-11-21</th>\n",
       "      <td>176.770004</td>\n",
       "      <td>167.539993</td>\n",
       "      <td>175.850006</td>\n",
       "      <td>167.869995</td>\n",
       "      <td>92882700.0</td>\n",
       "      <td>167.869995</td>\n",
       "    </tr>\n",
       "    <tr>\n",
       "      <th>2022-11-22</th>\n",
       "      <td>170.919998</td>\n",
       "      <td>166.190002</td>\n",
       "      <td>168.630005</td>\n",
       "      <td>169.910004</td>\n",
       "      <td>78452300.0</td>\n",
       "      <td>169.910004</td>\n",
       "    </tr>\n",
       "    <tr>\n",
       "      <th>2022-11-23</th>\n",
       "      <td>183.619995</td>\n",
       "      <td>172.500000</td>\n",
       "      <td>173.570007</td>\n",
       "      <td>183.199997</td>\n",
       "      <td>109536700.0</td>\n",
       "      <td>183.199997</td>\n",
       "    </tr>\n",
       "    <tr>\n",
       "      <th>2022-11-25</th>\n",
       "      <td>185.199997</td>\n",
       "      <td>180.630005</td>\n",
       "      <td>185.059998</td>\n",
       "      <td>182.860001</td>\n",
       "      <td>50672700.0</td>\n",
       "      <td>182.860001</td>\n",
       "    </tr>\n",
       "  </tbody>\n",
       "</table>\n",
       "<p>1258 rows × 6 columns</p>\n",
       "</div>"
      ],
      "text/plain": [
       "                  High         Low        Open       Close       Volume  \\\n",
       "Date                                                                      \n",
       "2017-11-28   21.333332   20.927999   21.090668   21.170000   74242500.0   \n",
       "2017-11-29   21.200001   20.082001   21.153334   20.502666  131511000.0   \n",
       "2017-11-30   20.713333   20.302668   20.570667   20.590000   65274000.0   \n",
       "2017-12-01   20.688000   20.336666   20.362667   20.435333   64393500.0   \n",
       "2017-12-04   20.551332   20.040667   20.433332   20.346666   87526500.0   \n",
       "...                ...         ...         ...         ...          ...   \n",
       "2022-11-18  185.190002  176.550003  185.050003  180.190002   75904900.0   \n",
       "2022-11-21  176.770004  167.539993  175.850006  167.869995   92882700.0   \n",
       "2022-11-22  170.919998  166.190002  168.630005  169.910004   78452300.0   \n",
       "2022-11-23  183.619995  172.500000  173.570007  183.199997  109536700.0   \n",
       "2022-11-25  185.199997  180.630005  185.059998  182.860001   50672700.0   \n",
       "\n",
       "             Adj Close  \n",
       "Date                    \n",
       "2017-11-28   21.170000  \n",
       "2017-11-29   20.502666  \n",
       "2017-11-30   20.590000  \n",
       "2017-12-01   20.435333  \n",
       "2017-12-04   20.346666  \n",
       "...                ...  \n",
       "2022-11-18  180.190002  \n",
       "2022-11-21  167.869995  \n",
       "2022-11-22  169.910004  \n",
       "2022-11-23  183.199997  \n",
       "2022-11-25  182.860001  \n",
       "\n",
       "[1258 rows x 6 columns]"
      ]
     },
     "execution_count": 36,
     "metadata": {},
     "output_type": "execute_result"
    }
   ],
   "source": [
    "df_tesla = df_tesla.set_index('Date', drop=True)\n",
    "df_tesla"
   ]
  },
  {
   "cell_type": "markdown",
   "metadata": {},
   "source": [
    "# datetime"
   ]
  },
  {
   "cell_type": "code",
   "execution_count": 37,
   "metadata": {},
   "outputs": [],
   "source": [
    "from datetime import datetime"
   ]
  },
  {
   "cell_type": "code",
   "execution_count": 38,
   "metadata": {},
   "outputs": [
    {
     "data": {
      "text/plain": [
       "datetime.datetime(2021, 11, 21, 0, 0)"
      ]
     },
     "execution_count": 38,
     "metadata": {},
     "output_type": "execute_result"
    }
   ],
   "source": [
    "datetime(2021, 11, 21)"
   ]
  },
  {
   "cell_type": "code",
   "execution_count": 40,
   "metadata": {},
   "outputs": [
    {
     "data": {
      "text/plain": [
       "datetime.datetime(2022, 11, 27, 16, 26, 34, 729442)"
      ]
     },
     "execution_count": 40,
     "metadata": {},
     "output_type": "execute_result"
    }
   ],
   "source": [
    "datetime.now()"
   ]
  },
  {
   "cell_type": "code",
   "execution_count": 41,
   "metadata": {},
   "outputs": [],
   "source": [
    "def add_num(num1, num2):\n",
    "  return num1 + num2"
   ]
  },
  {
   "cell_type": "code",
   "execution_count": 43,
   "metadata": {},
   "outputs": [
    {
     "name": "stdout",
     "output_type": "stream",
     "text": [
      "0:00:00\n",
      "0:00:00\n",
      "0:00:00\n",
      "0:00:00\n",
      "0:00:00\n",
      "0:00:00\n"
     ]
    }
   ],
   "source": [
    "num1 = 20\n",
    "num2 = 30\n",
    "\n",
    "start_time = datetime.now()\n",
    "add_num(num1, num2)\n",
    "end_time = datetime.now()\n",
    "print(end_time - start_time)"
   ]
  },
  {
   "cell_type": "code",
   "execution_count": 47,
   "metadata": {},
   "outputs": [
    {
     "name": "stdout",
     "output_type": "stream",
     "text": [
      "Day  27\n",
      "Month  11\n",
      "Weekday  6\n",
      "Year  2022\n"
     ]
    }
   ],
   "source": [
    "date = datetime.now()\n",
    "print(\"Day \", date.day)\n",
    "print(\"Month \", date.month)\n",
    "print(\"Weekday \", date.weekday())\n",
    "print(\"Year \", date.year)"
   ]
  },
  {
   "cell_type": "markdown",
   "metadata": {},
   "source": [
    "## Time Resampling"
   ]
  },
  {
   "cell_type": "code",
   "execution_count": 49,
   "metadata": {},
   "outputs": [
    {
     "data": {
      "text/html": [
       "<div>\n",
       "<style scoped>\n",
       "    .dataframe tbody tr th:only-of-type {\n",
       "        vertical-align: middle;\n",
       "    }\n",
       "\n",
       "    .dataframe tbody tr th {\n",
       "        vertical-align: top;\n",
       "    }\n",
       "\n",
       "    .dataframe thead th {\n",
       "        text-align: right;\n",
       "    }\n",
       "</style>\n",
       "<table border=\"1\" class=\"dataframe\">\n",
       "  <thead>\n",
       "    <tr style=\"text-align: right;\">\n",
       "      <th></th>\n",
       "      <th>High</th>\n",
       "      <th>Low</th>\n",
       "      <th>Open</th>\n",
       "      <th>Close</th>\n",
       "      <th>Volume</th>\n",
       "      <th>Adj Close</th>\n",
       "    </tr>\n",
       "    <tr>\n",
       "      <th>Date</th>\n",
       "      <th></th>\n",
       "      <th></th>\n",
       "      <th></th>\n",
       "      <th></th>\n",
       "      <th></th>\n",
       "      <th></th>\n",
       "    </tr>\n",
       "  </thead>\n",
       "  <tbody>\n",
       "    <tr>\n",
       "      <th>2017-11-28</th>\n",
       "      <td>21.333332</td>\n",
       "      <td>20.927999</td>\n",
       "      <td>21.090668</td>\n",
       "      <td>21.170000</td>\n",
       "      <td>74242500.0</td>\n",
       "      <td>21.170000</td>\n",
       "    </tr>\n",
       "    <tr>\n",
       "      <th>2017-11-29</th>\n",
       "      <td>21.200001</td>\n",
       "      <td>20.082001</td>\n",
       "      <td>21.153334</td>\n",
       "      <td>20.502666</td>\n",
       "      <td>131511000.0</td>\n",
       "      <td>20.502666</td>\n",
       "    </tr>\n",
       "    <tr>\n",
       "      <th>2017-11-30</th>\n",
       "      <td>20.713333</td>\n",
       "      <td>20.302668</td>\n",
       "      <td>20.570667</td>\n",
       "      <td>20.590000</td>\n",
       "      <td>65274000.0</td>\n",
       "      <td>20.590000</td>\n",
       "    </tr>\n",
       "    <tr>\n",
       "      <th>2017-12-01</th>\n",
       "      <td>20.688000</td>\n",
       "      <td>20.336666</td>\n",
       "      <td>20.362667</td>\n",
       "      <td>20.435333</td>\n",
       "      <td>64393500.0</td>\n",
       "      <td>20.435333</td>\n",
       "    </tr>\n",
       "    <tr>\n",
       "      <th>2017-12-04</th>\n",
       "      <td>20.551332</td>\n",
       "      <td>20.040667</td>\n",
       "      <td>20.433332</td>\n",
       "      <td>20.346666</td>\n",
       "      <td>87526500.0</td>\n",
       "      <td>20.346666</td>\n",
       "    </tr>\n",
       "  </tbody>\n",
       "</table>\n",
       "</div>"
      ],
      "text/plain": [
       "                 High        Low       Open      Close       Volume  Adj Close\n",
       "Date                                                                          \n",
       "2017-11-28  21.333332  20.927999  21.090668  21.170000   74242500.0  21.170000\n",
       "2017-11-29  21.200001  20.082001  21.153334  20.502666  131511000.0  20.502666\n",
       "2017-11-30  20.713333  20.302668  20.570667  20.590000   65274000.0  20.590000\n",
       "2017-12-01  20.688000  20.336666  20.362667  20.435333   64393500.0  20.435333\n",
       "2017-12-04  20.551332  20.040667  20.433332  20.346666   87526500.0  20.346666"
      ]
     },
     "execution_count": 49,
     "metadata": {},
     "output_type": "execute_result"
    }
   ],
   "source": [
    "df_tesla.head()"
   ]
  },
  {
   "cell_type": "code",
   "execution_count": 51,
   "metadata": {},
   "outputs": [
    {
     "data": {
      "text/html": [
       "<div>\n",
       "<style scoped>\n",
       "    .dataframe tbody tr th:only-of-type {\n",
       "        vertical-align: middle;\n",
       "    }\n",
       "\n",
       "    .dataframe tbody tr th {\n",
       "        vertical-align: top;\n",
       "    }\n",
       "\n",
       "    .dataframe thead th {\n",
       "        text-align: right;\n",
       "    }\n",
       "</style>\n",
       "<table border=\"1\" class=\"dataframe\">\n",
       "  <thead>\n",
       "    <tr style=\"text-align: right;\">\n",
       "      <th></th>\n",
       "      <th>High</th>\n",
       "      <th>Low</th>\n",
       "      <th>Open</th>\n",
       "      <th>Close</th>\n",
       "      <th>Volume</th>\n",
       "      <th>Adj Close</th>\n",
       "    </tr>\n",
       "    <tr>\n",
       "      <th>Date</th>\n",
       "      <th></th>\n",
       "      <th></th>\n",
       "      <th></th>\n",
       "      <th></th>\n",
       "      <th></th>\n",
       "      <th></th>\n",
       "    </tr>\n",
       "  </thead>\n",
       "  <tbody>\n",
       "    <tr>\n",
       "      <th>2017-12-31</th>\n",
       "      <td>20.533333</td>\n",
       "      <td>20.000000</td>\n",
       "      <td>20.006666</td>\n",
       "      <td>20.246668</td>\n",
       "      <td>52027500.0</td>\n",
       "      <td>20.246668</td>\n",
       "    </tr>\n",
       "    <tr>\n",
       "      <th>2018-12-31</th>\n",
       "      <td>17.355333</td>\n",
       "      <td>16.306000</td>\n",
       "      <td>16.851999</td>\n",
       "      <td>16.704000</td>\n",
       "      <td>46210500.0</td>\n",
       "      <td>16.704000</td>\n",
       "    </tr>\n",
       "    <tr>\n",
       "      <th>2019-12-31</th>\n",
       "      <td>12.445333</td>\n",
       "      <td>11.799333</td>\n",
       "      <td>12.073333</td>\n",
       "      <td>11.931333</td>\n",
       "      <td>36984000.0</td>\n",
       "      <td>11.931333</td>\n",
       "    </tr>\n",
       "    <tr>\n",
       "      <th>2020-12-31</th>\n",
       "      <td>26.990667</td>\n",
       "      <td>23.367332</td>\n",
       "      <td>24.980000</td>\n",
       "      <td>24.081333</td>\n",
       "      <td>52073100.0</td>\n",
       "      <td>24.081333</td>\n",
       "    </tr>\n",
       "    <tr>\n",
       "      <th>2021-12-31</th>\n",
       "      <td>188.736664</td>\n",
       "      <td>179.830002</td>\n",
       "      <td>184.183334</td>\n",
       "      <td>187.666672</td>\n",
       "      <td>29401800.0</td>\n",
       "      <td>187.666672</td>\n",
       "    </tr>\n",
       "    <tr>\n",
       "      <th>2022-12-31</th>\n",
       "      <td>170.919998</td>\n",
       "      <td>166.190002</td>\n",
       "      <td>168.630005</td>\n",
       "      <td>167.869995</td>\n",
       "      <td>41864700.0</td>\n",
       "      <td>167.869995</td>\n",
       "    </tr>\n",
       "  </tbody>\n",
       "</table>\n",
       "</div>"
      ],
      "text/plain": [
       "                  High         Low        Open       Close      Volume  \\\n",
       "Date                                                                     \n",
       "2017-12-31   20.533333   20.000000   20.006666   20.246668  52027500.0   \n",
       "2018-12-31   17.355333   16.306000   16.851999   16.704000  46210500.0   \n",
       "2019-12-31   12.445333   11.799333   12.073333   11.931333  36984000.0   \n",
       "2020-12-31   26.990667   23.367332   24.980000   24.081333  52073100.0   \n",
       "2021-12-31  188.736664  179.830002  184.183334  187.666672  29401800.0   \n",
       "2022-12-31  170.919998  166.190002  168.630005  167.869995  41864700.0   \n",
       "\n",
       "             Adj Close  \n",
       "Date                    \n",
       "2017-12-31   20.246668  \n",
       "2018-12-31   16.704000  \n",
       "2019-12-31   11.931333  \n",
       "2020-12-31   24.081333  \n",
       "2021-12-31  187.666672  \n",
       "2022-12-31  167.869995  "
      ]
     },
     "execution_count": 51,
     "metadata": {},
     "output_type": "execute_result"
    }
   ],
   "source": [
    "df_tesla.resample(rule='A').min()"
   ]
  },
  {
   "cell_type": "code",
   "execution_count": 52,
   "metadata": {},
   "outputs": [
    {
     "data": {
      "text/html": [
       "<div>\n",
       "<style scoped>\n",
       "    .dataframe tbody tr th:only-of-type {\n",
       "        vertical-align: middle;\n",
       "    }\n",
       "\n",
       "    .dataframe tbody tr th {\n",
       "        vertical-align: top;\n",
       "    }\n",
       "\n",
       "    .dataframe thead th {\n",
       "        text-align: right;\n",
       "    }\n",
       "</style>\n",
       "<table border=\"1\" class=\"dataframe\">\n",
       "  <thead>\n",
       "    <tr style=\"text-align: right;\">\n",
       "      <th></th>\n",
       "      <th>High</th>\n",
       "      <th>Low</th>\n",
       "      <th>Open</th>\n",
       "      <th>Close</th>\n",
       "      <th>Volume</th>\n",
       "      <th>Adj Close</th>\n",
       "    </tr>\n",
       "    <tr>\n",
       "      <th>Date</th>\n",
       "      <th></th>\n",
       "      <th></th>\n",
       "      <th></th>\n",
       "      <th></th>\n",
       "      <th></th>\n",
       "      <th></th>\n",
       "    </tr>\n",
       "  </thead>\n",
       "  <tbody>\n",
       "    <tr>\n",
       "      <th>2017-12-31</th>\n",
       "      <td>23.162666</td>\n",
       "      <td>22.505333</td>\n",
       "      <td>22.993334</td>\n",
       "      <td>22.896667</td>\n",
       "      <td>131511000.0</td>\n",
       "      <td>22.896667</td>\n",
       "    </tr>\n",
       "    <tr>\n",
       "      <th>2018-12-31</th>\n",
       "      <td>25.830667</td>\n",
       "      <td>24.474667</td>\n",
       "      <td>25.000000</td>\n",
       "      <td>25.304667</td>\n",
       "      <td>504745500.0</td>\n",
       "      <td>25.304667</td>\n",
       "    </tr>\n",
       "    <tr>\n",
       "      <th>2019-12-31</th>\n",
       "      <td>29.020666</td>\n",
       "      <td>28.423332</td>\n",
       "      <td>29.000000</td>\n",
       "      <td>28.729334</td>\n",
       "      <td>450091500.0</td>\n",
       "      <td>28.729334</td>\n",
       "    </tr>\n",
       "    <tr>\n",
       "      <th>2020-12-31</th>\n",
       "      <td>239.573334</td>\n",
       "      <td>230.373337</td>\n",
       "      <td>233.330002</td>\n",
       "      <td>235.223328</td>\n",
       "      <td>914082000.0</td>\n",
       "      <td>235.223328</td>\n",
       "    </tr>\n",
       "    <tr>\n",
       "      <th>2021-12-31</th>\n",
       "      <td>414.496674</td>\n",
       "      <td>405.666656</td>\n",
       "      <td>411.470001</td>\n",
       "      <td>409.970001</td>\n",
       "      <td>268189500.0</td>\n",
       "      <td>409.970001</td>\n",
       "    </tr>\n",
       "    <tr>\n",
       "      <th>2022-12-31</th>\n",
       "      <td>402.666656</td>\n",
       "      <td>378.679993</td>\n",
       "      <td>396.516663</td>\n",
       "      <td>399.926666</td>\n",
       "      <td>151565700.0</td>\n",
       "      <td>399.926666</td>\n",
       "    </tr>\n",
       "  </tbody>\n",
       "</table>\n",
       "</div>"
      ],
      "text/plain": [
       "                  High         Low        Open       Close       Volume  \\\n",
       "Date                                                                      \n",
       "2017-12-31   23.162666   22.505333   22.993334   22.896667  131511000.0   \n",
       "2018-12-31   25.830667   24.474667   25.000000   25.304667  504745500.0   \n",
       "2019-12-31   29.020666   28.423332   29.000000   28.729334  450091500.0   \n",
       "2020-12-31  239.573334  230.373337  233.330002  235.223328  914082000.0   \n",
       "2021-12-31  414.496674  405.666656  411.470001  409.970001  268189500.0   \n",
       "2022-12-31  402.666656  378.679993  396.516663  399.926666  151565700.0   \n",
       "\n",
       "             Adj Close  \n",
       "Date                    \n",
       "2017-12-31   22.896667  \n",
       "2018-12-31   25.304667  \n",
       "2019-12-31   28.729334  \n",
       "2020-12-31  235.223328  \n",
       "2021-12-31  409.970001  \n",
       "2022-12-31  399.926666  "
      ]
     },
     "execution_count": 52,
     "metadata": {},
     "output_type": "execute_result"
    }
   ],
   "source": [
    "df_tesla.resample(rule='A').max()"
   ]
  },
  {
   "cell_type": "code",
   "execution_count": 53,
   "metadata": {},
   "outputs": [
    {
     "data": {
      "text/plain": [
       "<AxesSubplot:xlabel='Date'>"
      ]
     },
     "execution_count": 53,
     "metadata": {},
     "output_type": "execute_result"
    },
    {
     "data": {
      "image/png": "[encoded data removed]",
      "text/plain": [
       "<Figure size 432x288 with 1 Axes>"
      ]
     },
     "metadata": {
      "needs_background": "light"
     },
     "output_type": "display_data"
    }
   ],
   "source": [
    "group_year = df_tesla.resample(rule='A').max()['Open'].plot()"
   ]
  },
  {
   "cell_type": "code",
   "execution_count": 54,
   "metadata": {},
   "outputs": [
    {
     "data": {
      "text/plain": [
       "<AxesSubplot:xlabel='Date'>"
      ]
     },
     "execution_count": 54,
     "metadata": {},
     "output_type": "execute_result"
    },
    {
     "data": {
      "image/png": "[encoded data removed]",
      "text/plain": [
       "<Figure size 432x288 with 1 Axes>"
      ]
     },
     "metadata": {
      "needs_background": "light"
     },
     "output_type": "display_data"
    }
   ],
   "source": [
    "df_tesla.resample(rule='QS').max()['High'].plot()"
   ]
  },
  {
   "cell_type": "code",
   "execution_count": 55,
   "metadata": {},
   "outputs": [
    {
     "data": {
      "text/html": [
       "<div>\n",
       "<style scoped>\n",
       "    .dataframe tbody tr th:only-of-type {\n",
       "        vertical-align: middle;\n",
       "    }\n",
       "\n",
       "    .dataframe tbody tr th {\n",
       "        vertical-align: top;\n",
       "    }\n",
       "\n",
       "    .dataframe thead th {\n",
       "        text-align: right;\n",
       "    }\n",
       "</style>\n",
       "<table border=\"1\" class=\"dataframe\">\n",
       "  <thead>\n",
       "    <tr style=\"text-align: right;\">\n",
       "      <th></th>\n",
       "      <th>High</th>\n",
       "      <th>Low</th>\n",
       "      <th>Open</th>\n",
       "      <th>Close</th>\n",
       "      <th>Volume</th>\n",
       "      <th>Adj Close</th>\n",
       "    </tr>\n",
       "    <tr>\n",
       "      <th>Date</th>\n",
       "      <th></th>\n",
       "      <th></th>\n",
       "      <th></th>\n",
       "      <th></th>\n",
       "      <th></th>\n",
       "      <th></th>\n",
       "    </tr>\n",
       "  </thead>\n",
       "  <tbody>\n",
       "    <tr>\n",
       "      <th>2017-12-29</th>\n",
       "      <td>23.162666</td>\n",
       "      <td>22.505333</td>\n",
       "      <td>22.993334</td>\n",
       "      <td>22.896667</td>\n",
       "      <td>131511000.0</td>\n",
       "      <td>22.896667</td>\n",
       "    </tr>\n",
       "    <tr>\n",
       "      <th>2018-12-31</th>\n",
       "      <td>25.830667</td>\n",
       "      <td>24.474667</td>\n",
       "      <td>25.000000</td>\n",
       "      <td>25.304667</td>\n",
       "      <td>504745500.0</td>\n",
       "      <td>25.304667</td>\n",
       "    </tr>\n",
       "    <tr>\n",
       "      <th>2019-12-31</th>\n",
       "      <td>29.020666</td>\n",
       "      <td>28.423332</td>\n",
       "      <td>29.000000</td>\n",
       "      <td>28.729334</td>\n",
       "      <td>450091500.0</td>\n",
       "      <td>28.729334</td>\n",
       "    </tr>\n",
       "    <tr>\n",
       "      <th>2020-12-31</th>\n",
       "      <td>239.573334</td>\n",
       "      <td>230.373337</td>\n",
       "      <td>233.330002</td>\n",
       "      <td>235.223328</td>\n",
       "      <td>914082000.0</td>\n",
       "      <td>235.223328</td>\n",
       "    </tr>\n",
       "    <tr>\n",
       "      <th>2021-12-31</th>\n",
       "      <td>414.496674</td>\n",
       "      <td>405.666656</td>\n",
       "      <td>411.470001</td>\n",
       "      <td>409.970001</td>\n",
       "      <td>268189500.0</td>\n",
       "      <td>409.970001</td>\n",
       "    </tr>\n",
       "    <tr>\n",
       "      <th>2022-12-30</th>\n",
       "      <td>402.666656</td>\n",
       "      <td>378.679993</td>\n",
       "      <td>396.516663</td>\n",
       "      <td>399.926666</td>\n",
       "      <td>151565700.0</td>\n",
       "      <td>399.926666</td>\n",
       "    </tr>\n",
       "  </tbody>\n",
       "</table>\n",
       "</div>"
      ],
      "text/plain": [
       "                  High         Low        Open       Close       Volume  \\\n",
       "Date                                                                      \n",
       "2017-12-29   23.162666   22.505333   22.993334   22.896667  131511000.0   \n",
       "2018-12-31   25.830667   24.474667   25.000000   25.304667  504745500.0   \n",
       "2019-12-31   29.020666   28.423332   29.000000   28.729334  450091500.0   \n",
       "2020-12-31  239.573334  230.373337  233.330002  235.223328  914082000.0   \n",
       "2021-12-31  414.496674  405.666656  411.470001  409.970001  268189500.0   \n",
       "2022-12-30  402.666656  378.679993  396.516663  399.926666  151565700.0   \n",
       "\n",
       "             Adj Close  \n",
       "Date                    \n",
       "2017-12-29   22.896667  \n",
       "2018-12-31   25.304667  \n",
       "2019-12-31   28.729334  \n",
       "2020-12-31  235.223328  \n",
       "2021-12-31  409.970001  \n",
       "2022-12-30  399.926666  "
      ]
     },
     "execution_count": 55,
     "metadata": {},
     "output_type": "execute_result"
    }
   ],
   "source": [
    "df_tesla.resample(rule='BA').max()"
   ]
  },
  {
   "cell_type": "code",
   "execution_count": 57,
   "metadata": {},
   "outputs": [
    {
     "name": "stdout",
     "output_type": "stream",
     "text": [
      "                  High         Low        Open       Close       Volume  \\\n",
      "Date                                                                      \n",
      "2017-10-02   23.162666   22.505333   22.993334   22.896667  131511000.0   \n",
      "2018-01-01   24.033333   23.490667   24.000000   23.827999  315021000.0   \n",
      "2018-04-02   24.915333   23.633333   24.344000   24.722000  335211000.0   \n",
      "2018-07-02   25.830667   24.474667   24.606001   25.304667  504745500.0   \n",
      "2018-10-01   25.299334   24.450001   25.000000   25.119333  411382500.0   \n",
      "2019-01-01   23.466667   22.943333   23.080667   23.153999  362262000.0   \n",
      "2019-04-01   19.744667   19.144667   19.219999   19.454000  398206500.0   \n",
      "2019-07-01   17.738001   17.210667   17.278000   17.658667  336274500.0   \n",
      "2019-10-01   29.020666   28.423332   29.000000   28.729334  450091500.0   \n",
      "2020-01-01   64.599335   60.068001   61.566666   61.161331  914082000.0   \n",
      "2020-04-01   72.512665   66.915337   67.518669   71.987335  487977000.0   \n",
      "2020-07-01  167.496674  156.836670  167.380005  166.106674  584781000.0   \n",
      "2020-10-01  239.573334  230.373337  233.330002  235.223328  666378600.0   \n",
      "2021-01-01  300.133331  290.533325  297.126678  294.363342  268189500.0   \n",
      "2021-04-01  260.263336  244.203339  256.899994  254.106674  147052200.0   \n",
      "2021-07-01  266.333344  258.333344  262.399994  263.786682  100847400.0   \n",
      "2021-10-01  414.496674  405.666656  411.470001  409.970001  188556300.0   \n",
      "2022-01-03  402.666656  378.679993  396.516663  399.926666  151565700.0   \n",
      "2022-04-01  384.290009  362.433319  378.766663  381.816681  144973200.0   \n",
      "2022-07-01  314.666656  305.579987  311.666656  309.320007  142032300.0   \n",
      "2022-10-03  257.500000  242.009995  254.500000  249.440002  132703000.0   \n",
      "\n",
      "             Adj Close  \n",
      "Date                    \n",
      "2017-10-02   22.896667  \n",
      "2018-01-01   23.827999  \n",
      "2018-04-02   24.722000  \n",
      "2018-07-02   25.304667  \n",
      "2018-10-01   25.119333  \n",
      "2019-01-01   23.153999  \n",
      "2019-04-01   19.454000  \n",
      "2019-07-01   17.658667  \n",
      "2019-10-01   28.729334  \n",
      "2020-01-01   61.161331  \n",
      "2020-04-01   71.987335  \n",
      "2020-07-01  166.106674  \n",
      "2020-10-01  235.223328  \n",
      "2021-01-01  294.363342  \n",
      "2021-04-01  254.106674  \n",
      "2021-07-01  263.786682  \n",
      "2021-10-01  409.970001  \n",
      "2022-01-03  399.926666  \n",
      "2022-04-01  381.816681  \n",
      "2022-07-01  309.320007  \n",
      "2022-10-03  249.440002  \n"
     ]
    },
    {
     "data": {
      "text/plain": [
       "<AxesSubplot:xlabel='Date'>"
      ]
     },
     "execution_count": 57,
     "metadata": {},
     "output_type": "execute_result"
    },
    {
     "data": {
      "image/png": "[encoded data removed]",
      "text/plain": [
       "<Figure size 432x288 with 1 Axes>"
      ]
     },
     "metadata": {
      "needs_background": "light"
     },
     "output_type": "display_data"
    }
   ],
   "source": [
    "print(df_tesla.resample(rule='BQS').max())\n",
    "df_tesla.resample(rule='BQS').max()['Open'].plot()"
   ]
  },
  {
   "cell_type": "code",
   "execution_count": 60,
   "metadata": {},
   "outputs": [
    {
     "data": {
      "text/plain": [
       "<AxesSubplot:xlabel='Date'>"
      ]
     },
     "execution_count": 60,
     "metadata": {},
     "output_type": "execute_result"
    },
    {
     "data": {
      "image/png": "[encoded data removed]",
      "text/plain": [
       "<Figure size 864x288 with 1 Axes>"
      ]
     },
     "metadata": {
      "needs_background": "light"
     },
     "output_type": "display_data"
    }
   ],
   "source": [
    "df_tesla['Open'].resample(rule='A').mean().plot(figsize=PLOTSIZE, kind='bar')"
   ]
  },
  {
   "cell_type": "code",
   "execution_count": 61,
   "metadata": {},
   "outputs": [
    {
     "data": {
      "text/plain": [
       "<AxesSubplot:xlabel='Date'>"
      ]
     },
     "execution_count": 61,
     "metadata": {},
     "output_type": "execute_result"
    },
    {
     "data": {
      "image/png": "[encoded data removed]",
      "text/plain": [
       "<Figure size 1080x432 with 1 Axes>"
      ]
     },
     "metadata": {
      "needs_background": "light"
     },
     "output_type": "display_data"
    }
   ],
   "source": [
    "df_tesla['Open'].resample(rule='M').max().plot(kind='bar',figsize=(15,6))"
   ]
  },
  {
   "cell_type": "code",
   "execution_count": 64,
   "metadata": {},
   "outputs": [
    {
     "data": {
      "text/plain": [
       "Date\n",
       "2017-11-28    21.333332\n",
       "2017-11-29    21.200001\n",
       "2017-11-30    20.713333\n",
       "2017-12-01    20.688000\n",
       "2017-12-04    20.551332\n",
       "2017-12-05    20.533333\n",
       "2017-12-06    20.892668\n",
       "2017-12-07    21.242001\n",
       "2017-12-08    21.132000\n",
       "2017-12-11    21.934000\n",
       "2017-12-12    22.762667\n",
       "Name: High, dtype: float64"
      ]
     },
     "execution_count": 64,
     "metadata": {},
     "output_type": "execute_result"
    }
   ],
   "source": [
    "df_tesla['High'].head(11)"
   ]
  },
  {
   "cell_type": "code",
   "execution_count": 62,
   "metadata": {},
   "outputs": [
    {
     "data": {
      "text/plain": [
       "Date\n",
       "2017-11-28          NaN\n",
       "2017-11-29          NaN\n",
       "2017-11-30          NaN\n",
       "2017-12-01          NaN\n",
       "2017-12-04          NaN\n",
       "2017-12-05          NaN\n",
       "2017-12-06          NaN\n",
       "2017-12-07          NaN\n",
       "2017-12-08          NaN\n",
       "2017-12-11          NaN\n",
       "2017-12-12    22.762667\n",
       "2017-12-13    22.948000\n",
       "2017-12-14    23.162666\n",
       "2017-12-15    23.162666\n",
       "2017-12-18    23.162666\n",
       "2017-12-19    23.162666\n",
       "2017-12-20    23.162666\n",
       "2017-12-21    23.162666\n",
       "2017-12-22    23.162666\n",
       "2017-12-26    23.162666\n",
       "Name: High, dtype: float64"
      ]
     },
     "execution_count": 62,
     "metadata": {},
     "output_type": "execute_result"
    }
   ],
   "source": [
    "df_tesla['High'].rolling(11).max().head(20)"
   ]
  },
  {
   "cell_type": "code",
   "execution_count": 65,
   "metadata": {},
   "outputs": [],
   "source": [
    "df_tesla['Open:30 days rolling'] = df_tesla['Open'].rolling(30).mean()"
   ]
  },
  {
   "cell_type": "code",
   "execution_count": 66,
   "metadata": {},
   "outputs": [
    {
     "data": {
      "text/html": [
       "<div>\n",
       "<style scoped>\n",
       "    .dataframe tbody tr th:only-of-type {\n",
       "        vertical-align: middle;\n",
       "    }\n",
       "\n",
       "    .dataframe tbody tr th {\n",
       "        vertical-align: top;\n",
       "    }\n",
       "\n",
       "    .dataframe thead th {\n",
       "        text-align: right;\n",
       "    }\n",
       "</style>\n",
       "<table border=\"1\" class=\"dataframe\">\n",
       "  <thead>\n",
       "    <tr style=\"text-align: right;\">\n",
       "      <th></th>\n",
       "      <th>High</th>\n",
       "      <th>Low</th>\n",
       "      <th>Open</th>\n",
       "      <th>Close</th>\n",
       "      <th>Volume</th>\n",
       "      <th>Adj Close</th>\n",
       "      <th>Open:30 days rolling</th>\n",
       "    </tr>\n",
       "    <tr>\n",
       "      <th>Date</th>\n",
       "      <th></th>\n",
       "      <th></th>\n",
       "      <th></th>\n",
       "      <th></th>\n",
       "      <th></th>\n",
       "      <th></th>\n",
       "      <th></th>\n",
       "    </tr>\n",
       "  </thead>\n",
       "  <tbody>\n",
       "    <tr>\n",
       "      <th>2017-11-28</th>\n",
       "      <td>21.333332</td>\n",
       "      <td>20.927999</td>\n",
       "      <td>21.090668</td>\n",
       "      <td>21.170000</td>\n",
       "      <td>74242500.0</td>\n",
       "      <td>21.170000</td>\n",
       "      <td>NaN</td>\n",
       "    </tr>\n",
       "    <tr>\n",
       "      <th>2017-11-29</th>\n",
       "      <td>21.200001</td>\n",
       "      <td>20.082001</td>\n",
       "      <td>21.153334</td>\n",
       "      <td>20.502666</td>\n",
       "      <td>131511000.0</td>\n",
       "      <td>20.502666</td>\n",
       "      <td>NaN</td>\n",
       "    </tr>\n",
       "    <tr>\n",
       "      <th>2017-11-30</th>\n",
       "      <td>20.713333</td>\n",
       "      <td>20.302668</td>\n",
       "      <td>20.570667</td>\n",
       "      <td>20.590000</td>\n",
       "      <td>65274000.0</td>\n",
       "      <td>20.590000</td>\n",
       "      <td>NaN</td>\n",
       "    </tr>\n",
       "    <tr>\n",
       "      <th>2017-12-01</th>\n",
       "      <td>20.688000</td>\n",
       "      <td>20.336666</td>\n",
       "      <td>20.362667</td>\n",
       "      <td>20.435333</td>\n",
       "      <td>64393500.0</td>\n",
       "      <td>20.435333</td>\n",
       "      <td>NaN</td>\n",
       "    </tr>\n",
       "    <tr>\n",
       "      <th>2017-12-04</th>\n",
       "      <td>20.551332</td>\n",
       "      <td>20.040667</td>\n",
       "      <td>20.433332</td>\n",
       "      <td>20.346666</td>\n",
       "      <td>87526500.0</td>\n",
       "      <td>20.346666</td>\n",
       "      <td>NaN</td>\n",
       "    </tr>\n",
       "    <tr>\n",
       "      <th>2017-12-05</th>\n",
       "      <td>20.533333</td>\n",
       "      <td>20.066668</td>\n",
       "      <td>20.133333</td>\n",
       "      <td>20.246668</td>\n",
       "      <td>69697500.0</td>\n",
       "      <td>20.246668</td>\n",
       "      <td>NaN</td>\n",
       "    </tr>\n",
       "    <tr>\n",
       "      <th>2017-12-06</th>\n",
       "      <td>20.892668</td>\n",
       "      <td>20.000000</td>\n",
       "      <td>20.006666</td>\n",
       "      <td>20.884001</td>\n",
       "      <td>107929500.0</td>\n",
       "      <td>20.884001</td>\n",
       "      <td>NaN</td>\n",
       "    </tr>\n",
       "    <tr>\n",
       "      <th>2017-12-07</th>\n",
       "      <td>21.242001</td>\n",
       "      <td>20.736668</td>\n",
       "      <td>20.799999</td>\n",
       "      <td>20.749332</td>\n",
       "      <td>71709000.0</td>\n",
       "      <td>20.749332</td>\n",
       "      <td>NaN</td>\n",
       "    </tr>\n",
       "    <tr>\n",
       "      <th>2017-12-08</th>\n",
       "      <td>21.132000</td>\n",
       "      <td>20.750668</td>\n",
       "      <td>20.973333</td>\n",
       "      <td>21.008667</td>\n",
       "      <td>52027500.0</td>\n",
       "      <td>21.008667</td>\n",
       "      <td>NaN</td>\n",
       "    </tr>\n",
       "    <tr>\n",
       "      <th>2017-12-11</th>\n",
       "      <td>21.934000</td>\n",
       "      <td>20.916668</td>\n",
       "      <td>20.975332</td>\n",
       "      <td>21.927334</td>\n",
       "      <td>119070000.0</td>\n",
       "      <td>21.927334</td>\n",
       "      <td>NaN</td>\n",
       "    </tr>\n",
       "    <tr>\n",
       "      <th>2017-12-12</th>\n",
       "      <td>22.762667</td>\n",
       "      <td>22.002001</td>\n",
       "      <td>22.030001</td>\n",
       "      <td>22.735332</td>\n",
       "      <td>130998000.0</td>\n",
       "      <td>22.735332</td>\n",
       "      <td>NaN</td>\n",
       "    </tr>\n",
       "    <tr>\n",
       "      <th>2017-12-13</th>\n",
       "      <td>22.948000</td>\n",
       "      <td>22.433332</td>\n",
       "      <td>22.728666</td>\n",
       "      <td>22.601999</td>\n",
       "      <td>93322500.0</td>\n",
       "      <td>22.601999</td>\n",
       "      <td>NaN</td>\n",
       "    </tr>\n",
       "    <tr>\n",
       "      <th>2017-12-14</th>\n",
       "      <td>23.162666</td>\n",
       "      <td>22.459999</td>\n",
       "      <td>22.733999</td>\n",
       "      <td>22.525999</td>\n",
       "      <td>86998500.0</td>\n",
       "      <td>22.525999</td>\n",
       "      <td>NaN</td>\n",
       "    </tr>\n",
       "    <tr>\n",
       "      <th>2017-12-15</th>\n",
       "      <td>22.926666</td>\n",
       "      <td>22.384001</td>\n",
       "      <td>22.802668</td>\n",
       "      <td>22.896667</td>\n",
       "      <td>103998000.0</td>\n",
       "      <td>22.896667</td>\n",
       "      <td>NaN</td>\n",
       "    </tr>\n",
       "    <tr>\n",
       "      <th>2017-12-18</th>\n",
       "      <td>23.115334</td>\n",
       "      <td>22.505333</td>\n",
       "      <td>22.993334</td>\n",
       "      <td>22.591333</td>\n",
       "      <td>82143000.0</td>\n",
       "      <td>22.591333</td>\n",
       "      <td>NaN</td>\n",
       "    </tr>\n",
       "    <tr>\n",
       "      <th>2017-12-19</th>\n",
       "      <td>22.766001</td>\n",
       "      <td>22.020000</td>\n",
       "      <td>22.684000</td>\n",
       "      <td>22.073334</td>\n",
       "      <td>102375000.0</td>\n",
       "      <td>22.073334</td>\n",
       "      <td>NaN</td>\n",
       "    </tr>\n",
       "    <tr>\n",
       "      <th>2017-12-20</th>\n",
       "      <td>22.206667</td>\n",
       "      <td>21.669333</td>\n",
       "      <td>22.179333</td>\n",
       "      <td>21.931999</td>\n",
       "      <td>89307000.0</td>\n",
       "      <td>21.931999</td>\n",
       "      <td>NaN</td>\n",
       "    </tr>\n",
       "    <tr>\n",
       "      <th>2017-12-21</th>\n",
       "      <td>22.249332</td>\n",
       "      <td>21.813999</td>\n",
       "      <td>21.972668</td>\n",
       "      <td>22.110666</td>\n",
       "      <td>65778000.0</td>\n",
       "      <td>22.110666</td>\n",
       "      <td>NaN</td>\n",
       "    </tr>\n",
       "    <tr>\n",
       "      <th>2017-12-22</th>\n",
       "      <td>22.061333</td>\n",
       "      <td>21.654667</td>\n",
       "      <td>21.967333</td>\n",
       "      <td>21.680000</td>\n",
       "      <td>63237000.0</td>\n",
       "      <td>21.680000</td>\n",
       "      <td>NaN</td>\n",
       "    </tr>\n",
       "    <tr>\n",
       "      <th>2017-12-26</th>\n",
       "      <td>21.596001</td>\n",
       "      <td>21.105333</td>\n",
       "      <td>21.588667</td>\n",
       "      <td>21.152666</td>\n",
       "      <td>65676000.0</td>\n",
       "      <td>21.152666</td>\n",
       "      <td>NaN</td>\n",
       "    </tr>\n",
       "    <tr>\n",
       "      <th>2017-12-27</th>\n",
       "      <td>21.178667</td>\n",
       "      <td>20.716667</td>\n",
       "      <td>21.066668</td>\n",
       "      <td>20.775999</td>\n",
       "      <td>70681500.0</td>\n",
       "      <td>20.775999</td>\n",
       "      <td>NaN</td>\n",
       "    </tr>\n",
       "    <tr>\n",
       "      <th>2017-12-28</th>\n",
       "      <td>21.054667</td>\n",
       "      <td>20.636000</td>\n",
       "      <td>20.783333</td>\n",
       "      <td>21.024000</td>\n",
       "      <td>64744500.0</td>\n",
       "      <td>21.024000</td>\n",
       "      <td>NaN</td>\n",
       "    </tr>\n",
       "    <tr>\n",
       "      <th>2017-12-29</th>\n",
       "      <td>21.094000</td>\n",
       "      <td>20.666668</td>\n",
       "      <td>21.078667</td>\n",
       "      <td>20.756666</td>\n",
       "      <td>56658000.0</td>\n",
       "      <td>20.756666</td>\n",
       "      <td>NaN</td>\n",
       "    </tr>\n",
       "    <tr>\n",
       "      <th>2018-01-02</th>\n",
       "      <td>21.474001</td>\n",
       "      <td>20.733334</td>\n",
       "      <td>20.799999</td>\n",
       "      <td>21.368668</td>\n",
       "      <td>65283000.0</td>\n",
       "      <td>21.368668</td>\n",
       "      <td>NaN</td>\n",
       "    </tr>\n",
       "    <tr>\n",
       "      <th>2018-01-03</th>\n",
       "      <td>21.683332</td>\n",
       "      <td>21.036667</td>\n",
       "      <td>21.400000</td>\n",
       "      <td>21.150000</td>\n",
       "      <td>67822500.0</td>\n",
       "      <td>21.150000</td>\n",
       "      <td>NaN</td>\n",
       "    </tr>\n",
       "    <tr>\n",
       "      <th>2018-01-04</th>\n",
       "      <td>21.236668</td>\n",
       "      <td>20.378668</td>\n",
       "      <td>20.858000</td>\n",
       "      <td>20.974667</td>\n",
       "      <td>149194500.0</td>\n",
       "      <td>20.974667</td>\n",
       "      <td>NaN</td>\n",
       "    </tr>\n",
       "    <tr>\n",
       "      <th>2018-01-05</th>\n",
       "      <td>21.149332</td>\n",
       "      <td>20.799999</td>\n",
       "      <td>21.108000</td>\n",
       "      <td>21.105333</td>\n",
       "      <td>68868000.0</td>\n",
       "      <td>21.105333</td>\n",
       "      <td>NaN</td>\n",
       "    </tr>\n",
       "    <tr>\n",
       "      <th>2018-01-08</th>\n",
       "      <td>22.468000</td>\n",
       "      <td>21.033333</td>\n",
       "      <td>21.066668</td>\n",
       "      <td>22.427334</td>\n",
       "      <td>147891000.0</td>\n",
       "      <td>22.427334</td>\n",
       "      <td>NaN</td>\n",
       "    </tr>\n",
       "    <tr>\n",
       "      <th>2018-01-09</th>\n",
       "      <td>22.586666</td>\n",
       "      <td>21.826668</td>\n",
       "      <td>22.344000</td>\n",
       "      <td>22.246000</td>\n",
       "      <td>107199000.0</td>\n",
       "      <td>22.246000</td>\n",
       "      <td>NaN</td>\n",
       "    </tr>\n",
       "    <tr>\n",
       "      <th>2018-01-10</th>\n",
       "      <td>22.466667</td>\n",
       "      <td>22.000000</td>\n",
       "      <td>22.146667</td>\n",
       "      <td>22.320000</td>\n",
       "      <td>64648500.0</td>\n",
       "      <td>22.320000</td>\n",
       "      <td>21.427733</td>\n",
       "    </tr>\n",
       "    <tr>\n",
       "      <th>2018-01-11</th>\n",
       "      <td>22.987333</td>\n",
       "      <td>22.217333</td>\n",
       "      <td>22.349333</td>\n",
       "      <td>22.530001</td>\n",
       "      <td>99682500.0</td>\n",
       "      <td>22.530001</td>\n",
       "      <td>21.469689</td>\n",
       "    </tr>\n",
       "  </tbody>\n",
       "</table>\n",
       "</div>"
      ],
      "text/plain": [
       "                 High        Low       Open      Close       Volume  \\\n",
       "Date                                                                  \n",
       "2017-11-28  21.333332  20.927999  21.090668  21.170000   74242500.0   \n",
       "2017-11-29  21.200001  20.082001  21.153334  20.502666  131511000.0   \n",
       "2017-11-30  20.713333  20.302668  20.570667  20.590000   65274000.0   \n",
       "2017-12-01  20.688000  20.336666  20.362667  20.435333   64393500.0   \n",
       "2017-12-04  20.551332  20.040667  20.433332  20.346666   87526500.0   \n",
       "2017-12-05  20.533333  20.066668  20.133333  20.246668   69697500.0   \n",
       "2017-12-06  20.892668  20.000000  20.006666  20.884001  107929500.0   \n",
       "2017-12-07  21.242001  20.736668  20.799999  20.749332   71709000.0   \n",
       "2017-12-08  21.132000  20.750668  20.973333  21.008667   52027500.0   \n",
       "2017-12-11  21.934000  20.916668  20.975332  21.927334  119070000.0   \n",
       "2017-12-12  22.762667  22.002001  22.030001  22.735332  130998000.0   \n",
       "2017-12-13  22.948000  22.433332  22.728666  22.601999   93322500.0   \n",
       "2017-12-14  23.162666  22.459999  22.733999  22.525999   86998500.0   \n",
       "2017-12-15  22.926666  22.384001  22.802668  22.896667  103998000.0   \n",
       "2017-12-18  23.115334  22.505333  22.993334  22.591333   82143000.0   \n",
       "2017-12-19  22.766001  22.020000  22.684000  22.073334  102375000.0   \n",
       "2017-12-20  22.206667  21.669333  22.179333  21.931999   89307000.0   \n",
       "2017-12-21  22.249332  21.813999  21.972668  22.110666   65778000.0   \n",
       "2017-12-22  22.061333  21.654667  21.967333  21.680000   63237000.0   \n",
       "2017-12-26  21.596001  21.105333  21.588667  21.152666   65676000.0   \n",
       "2017-12-27  21.178667  20.716667  21.066668  20.775999   70681500.0   \n",
       "2017-12-28  21.054667  20.636000  20.783333  21.024000   64744500.0   \n",
       "2017-12-29  21.094000  20.666668  21.078667  20.756666   56658000.0   \n",
       "2018-01-02  21.474001  20.733334  20.799999  21.368668   65283000.0   \n",
       "2018-01-03  21.683332  21.036667  21.400000  21.150000   67822500.0   \n",
       "2018-01-04  21.236668  20.378668  20.858000  20.974667  149194500.0   \n",
       "2018-01-05  21.149332  20.799999  21.108000  21.105333   68868000.0   \n",
       "2018-01-08  22.468000  21.033333  21.066668  22.427334  147891000.0   \n",
       "2018-01-09  22.586666  21.826668  22.344000  22.246000  107199000.0   \n",
       "2018-01-10  22.466667  22.000000  22.146667  22.320000   64648500.0   \n",
       "2018-01-11  22.987333  22.217333  22.349333  22.530001   99682500.0   \n",
       "\n",
       "            Adj Close  Open:30 days rolling  \n",
       "Date                                         \n",
       "2017-11-28  21.170000                   NaN  \n",
       "2017-11-29  20.502666                   NaN  \n",
       "2017-11-30  20.590000                   NaN  \n",
       "2017-12-01  20.435333                   NaN  \n",
       "2017-12-04  20.346666                   NaN  \n",
       "2017-12-05  20.246668                   NaN  \n",
       "2017-12-06  20.884001                   NaN  \n",
       "2017-12-07  20.749332                   NaN  \n",
       "2017-12-08  21.008667                   NaN  \n",
       "2017-12-11  21.927334                   NaN  \n",
       "2017-12-12  22.735332                   NaN  \n",
       "2017-12-13  22.601999                   NaN  \n",
       "2017-12-14  22.525999                   NaN  \n",
       "2017-12-15  22.896667                   NaN  \n",
       "2017-12-18  22.591333                   NaN  \n",
       "2017-12-19  22.073334                   NaN  \n",
       "2017-12-20  21.931999                   NaN  \n",
       "2017-12-21  22.110666                   NaN  \n",
       "2017-12-22  21.680000                   NaN  \n",
       "2017-12-26  21.152666                   NaN  \n",
       "2017-12-27  20.775999                   NaN  \n",
       "2017-12-28  21.024000                   NaN  \n",
       "2017-12-29  20.756666                   NaN  \n",
       "2018-01-02  21.368668                   NaN  \n",
       "2018-01-03  21.150000                   NaN  \n",
       "2018-01-04  20.974667                   NaN  \n",
       "2018-01-05  21.105333                   NaN  \n",
       "2018-01-08  22.427334                   NaN  \n",
       "2018-01-09  22.246000                   NaN  \n",
       "2018-01-10  22.320000             21.427733  \n",
       "2018-01-11  22.530001             21.469689  "
      ]
     },
     "execution_count": 66,
     "metadata": {},
     "output_type": "execute_result"
    }
   ],
   "source": [
    "df_tesla.head(31)"
   ]
  },
  {
   "cell_type": "code",
   "execution_count": 67,
   "metadata": {},
   "outputs": [
    {
     "data": {
      "text/plain": [
       "<AxesSubplot:xlabel='Date'>"
      ]
     },
     "execution_count": 67,
     "metadata": {},
     "output_type": "execute_result"
    },
    {
     "data": {
      "image/png": "[encoded data removed]",
      "text/plain": [
       "<Figure size 864x360 with 1 Axes>"
      ]
     },
     "metadata": {
      "needs_background": "light"
     },
     "output_type": "display_data"
    }
   ],
   "source": [
    "df_tesla[['Open','Open:30 days rolling']].plot(figsize=(12,5))"
   ]
  },
  {
   "cell_type": "code",
   "execution_count": null,
   "metadata": {},
   "outputs": [],
   "source": []
  }
 ],
 "metadata": {
  "kernelspec": {
   "display_name": "Python 3.9.7 ('base')",
   "language": "python",
   "name": "python3"
  },
  "language_info": {
   "codemirror_mode": {
    "name": "ipython",
    "version": 3
   },
   "file_extension": ".py",
   "mimetype": "text/x-python",
   "name": "python",
   "nbconvert_exporter": "python",
   "pygments_lexer": "ipython3",
   "version": "3.9.7"
  },
  "orig_nbformat": 4,
  "vscode": {
   "interpreter": {
    "hash": "82e4fd910530615929363184f98045745f580f2f3fa35d02f8f6300cb4d36077"
   }
  }
 },
 "nbformat": 4,
 "nbformat_minor": 2
}
